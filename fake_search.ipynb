{
 "metadata": {
  "language_info": {
   "codemirror_mode": {
    "name": "ipython",
    "version": 3
   },
   "file_extension": ".py",
   "mimetype": "text/x-python",
   "name": "python",
   "nbconvert_exporter": "python",
   "pygments_lexer": "ipython3",
   "version": "3.8.2-final"
  },
  "orig_nbformat": 2,
  "kernelspec": {
   "name": "Python 3.8.2 64-bit ('pta_software': conda)",
   "display_name": "Python 3.8.2 64-bit ('pta_software': conda)",
   "metadata": {
    "interpreter": {
     "hash": "aeb922d35b2f4ebbadcd8ba70ee719d2075b48e82907fc15d43e27d5699f1d1b"
    }
   }
  }
 },
 "nbformat": 4,
 "nbformat_minor": 2,
 "cells": [
  {
   "cell_type": "code",
   "execution_count": 1,
   "metadata": {},
   "outputs": [],
   "source": [
    "%matplotlib inline\n",
    "%config InlineBackend.figure_format = 'retina'\n",
    "%load_ext autoreload\n",
    "%autoreload 2\n",
    "\n",
    "import os, glob, json, pickle\n",
    "import matplotlib.pyplot as plt\n",
    "import numpy as np\n",
    "import scipy.linalg as sl\n",
    "\n",
    "import enterprise\n",
    "from enterprise.pulsar import Pulsar\n",
    "import enterprise.signals.parameter as parameter\n",
    "from enterprise.signals import utils\n",
    "from enterprise.signals import signal_base\n",
    "from enterprise.signals import selections\n",
    "from enterprise.signals.selections import Selection\n",
    "from enterprise.signals import white_signals\n",
    "from enterprise.signals import gp_signals\n",
    "from enterprise.signals import deterministic_signals\n",
    "import enterprise.constants as const\n",
    "\n",
    "import corner\n",
    "from PTMCMCSampler.PTMCMCSampler import PTSampler as ptmcmc\n",
    "import enterprise_extensions\n",
    "from enterprise_extensions import models, sampler"
   ]
  },
  {
   "cell_type": "code",
   "execution_count": 2,
   "metadata": {},
   "outputs": [
    {
     "output_type": "stream",
     "name": "stderr",
     "text": [
      "WARNING: enterprise.pulsar: WARNING: Could not find pulsar distance for PSR J1614-2230. Setting value to 1 with 20% uncertainty.\n",
      "WARNING: enterprise.pulsar: WARNING: Could not find pulsar distance for PSR J1738+0333. Setting value to 1 with 20% uncertainty.\n",
      "WARNING: enterprise.pulsar: WARNING: Could not find pulsar distance for PSR J1741+1351. Setting value to 1 with 20% uncertainty.\n",
      "WARNING: enterprise.pulsar: WARNING: Could not find pulsar distance for PSR J1903+0327. Setting value to 1 with 20% uncertainty.\n",
      "WARNING: enterprise.pulsar: WARNING: Could not find pulsar distance for PSR J2010-1323. Setting value to 1 with 20% uncertainty.\n"
     ]
    }
   ],
   "source": [
    "# import the par and tim files\n",
    "datadir = './fakes'\n",
    "\n",
    "parfiles = sorted(glob.glob(datadir + '/par/' + '*.par'))\n",
    "timfiles = sorted(glob.glob(datadir + '/tim/' + '*.tim'))\n",
    "\n",
    "psrs = []\n",
    "for p, t in zip(parfiles, timfiles):\n",
    "    psrname = parfiles[0].split('/')[-1].split('_')[0]\n",
    "    psr = Pulsar(p, t, ephem='DE438')\n",
    "    psrs.append(psr)"
   ]
  },
  {
   "cell_type": "code",
   "execution_count": 3,
   "metadata": {},
   "outputs": [
    {
     "output_type": "stream",
     "name": "stdout",
     "text": [
      "B1855+09\nB1937+21\nB1953+29\nJ0030+0451\nJ0613-0200\nJ1012+5307\nJ1024-0719\nJ1455-3330\nJ1600-3053\nJ1614-2230\nJ1640+2224\nJ1643-1224\nJ1713+0747\nJ1738+0333\nJ1741+1351\nJ1744-1134\nJ1903+0327\nJ1909-3744\nJ1910+1256\nJ1918-0642\nJ2010-1323\nJ2145-0750\nJ2317+1439\n"
     ]
    }
   ],
   "source": [
    "for psr in psrs:\n",
    "    print(psr.name)"
   ]
  },
  {
   "cell_type": "code",
   "execution_count": 102,
   "metadata": {},
   "outputs": [
    {
     "output_type": "stream",
     "name": "stdout",
     "text": [
      "[<enterprise.pulsar.Tempo2Pulsar object at 0x7fddd48c9a30>, <enterprise.pulsar.Tempo2Pulsar object at 0x7fddd2431cd0>, <enterprise.pulsar.Tempo2Pulsar object at 0x7fddd48d1f40>, <enterprise.pulsar.Tempo2Pulsar object at 0x7fddd48c98b0>, <enterprise.pulsar.Tempo2Pulsar object at 0x7fddcf601550>, <enterprise.pulsar.Tempo2Pulsar object at 0x7fddd48d1d00>, <enterprise.pulsar.Tempo2Pulsar object at 0x7fddd48c98e0>]\nJ1909-3744\nJ2317+1439\nJ1600-3053\nJ1918-0642\nJ0613-0200\nJ1744-1134\nJ1910+1256\n"
     ]
    }
   ],
   "source": [
    "names_list = []\n",
    "for psr in psrs:\n",
    "    names_list.append(psr.name)\n",
    "\n",
    "# names = ['J1909-3744', 'J2317+1439', 'J1600-3053', 'J1918-0642']\n",
    "# names = ['J1909-3744', 'J2317+1439', 'J1600-3053', 'J1918-0642', 'J0613-0200', 'J1744-1134', 'J1910+1256']\n",
    "names = ['J2317+1439', 'J1640+2224', 'J1614-2230']\n",
    "\n",
    "psrs_cut = []\n",
    "for name in names:\n",
    "    psrs_cut.append(psrs[names_list.index(name)])\n",
    "print(psrs_cut)\n",
    "\n",
    "for psr in psrs_cut:\n",
    "    print(psr.name)"
   ]
  },
  {
   "cell_type": "code",
   "execution_count": 103,
   "metadata": {},
   "outputs": [],
   "source": [
    "# # for psr in psrs:\n",
    "# #     print(psr.name)\n",
    "# num_psrs = 1\n",
    "# psrs_cut = psrs[0:num_psrs]\n",
    "# print(len(psrs_cut))\n",
    "# for psr in psrs_cut:\n",
    "#     print(psr.name)"
   ]
  },
  {
   "cell_type": "code",
   "execution_count": 104,
   "metadata": {},
   "outputs": [],
   "source": [
    "# find the maximum time span to set GW frequency sampling\n",
    "tmin = [p.toas.min() for p in psrs_cut]\n",
    "tmax = [p.toas.max() for p in psrs_cut]\n",
    "Tspan = np.max(tmax) - np.min(tmin)"
   ]
  },
  {
   "cell_type": "code",
   "execution_count": 105,
   "metadata": {},
   "outputs": [],
   "source": [
    "# define selection by observing backend\n",
    "selection = selections.Selection(selections.by_backend)"
   ]
  },
  {
   "cell_type": "code",
   "execution_count": 106,
   "metadata": {},
   "outputs": [],
   "source": [
    "# white noise parameters\n",
    "# we set these ourselves so we know the most likely values!\n",
    "efac = parameter.Constant(1)\n",
    "equad = parameter.Constant(0)\n",
    "ecorr = parameter.Constant(0)\n",
    "\n",
    "# red noise parameters\n",
    "log10_A = parameter.LinearExp(-20, -11)\n",
    "gamma = parameter.Uniform(0, 7)\n",
    "\n",
    "# GW parameters (initialize with names here to use parameters in common across pulsars)\n",
    "log10_A_gw = parameter.LinearExp(-18,-12)('log10_A_gw')\n",
    "gamma_gw = parameter.Constant(4.33)('gamma_gw')"
   ]
  },
  {
   "cell_type": "code",
   "execution_count": 107,
   "metadata": {},
   "outputs": [],
   "source": [
    "# white noise\n",
    "ef = white_signals.MeasurementNoise(efac=efac, selection=selection)\n",
    "eq = white_signals.EquadNoise(log10_equad=equad, selection=selection)\n",
    "ec = white_signals.EcorrKernelNoise(log10_ecorr=ecorr, selection=selection)\n",
    "\n",
    "# red noise (powerlaw with 30 frequencies)\n",
    "pl = utils.powerlaw(log10_A=log10_A, gamma=gamma)\n",
    "rn = gp_signals.FourierBasisGP(spectrum=pl, components=30, Tspan=Tspan)\n",
    "\n",
    "# gwb (no spatial correlations)\n",
    "cpl = utils.powerlaw(log10_A=log10_A_gw, gamma=gamma_gw)\n",
    "gw = gp_signals.FourierBasisGP(spectrum=cpl, components=30, Tspan=Tspan, name='gw')\n",
    "\n",
    "# timing model\n",
    "tm = gp_signals.TimingModel(use_svd=True) # stabilizing timing model design matrix with SVD"
   ]
  },
  {
   "cell_type": "code",
   "execution_count": 108,
   "metadata": {},
   "outputs": [],
   "source": [
    "s = ef + rn + gw + tm"
   ]
  },
  {
   "cell_type": "code",
   "execution_count": 109,
   "metadata": {},
   "outputs": [],
   "source": [
    "\n",
    "\n",
    "# make a list of names to search through\n",
    "psrs_names = []\n",
    "for psr in psrs:\n",
    "    psrs_names.append(psr.name)\n",
    "\n",
    "# J1909_ind = psrs_names.index('J1909-3744')\n",
    "# J1713_ind = psrs_names.index('J1713+0747')\n",
    "# J1744_ind = psrs_names.index('J1744-1134')\n",
    "\n",
    "# psrs_cut = [psrs[J1909_ind], psrs[J1713_ind], psrs[J1744_ind]]\n",
    "# intialize PTA\n",
    "models = []\n",
    "\n",
    "for p in psrs_cut:\n",
    "    models.append(s(p))\n",
    "\n",
    "pta = signal_base.PTA(models)"
   ]
  },
  {
   "cell_type": "code",
   "execution_count": 110,
   "metadata": {},
   "outputs": [
    {
     "output_type": "stream",
     "name": "stdout",
     "text": [
      "[J0613-0200_red_noise_gamma:Uniform(pmin=0, pmax=7), J0613-0200_red_noise_log10_A:LinearExp(pmin=-20, pmax=-11), J1600-3053_red_noise_gamma:Uniform(pmin=0, pmax=7), J1600-3053_red_noise_log10_A:LinearExp(pmin=-20, pmax=-11), J1744-1134_red_noise_gamma:Uniform(pmin=0, pmax=7), J1744-1134_red_noise_log10_A:LinearExp(pmin=-20, pmax=-11), J1909-3744_red_noise_gamma:Uniform(pmin=0, pmax=7), J1909-3744_red_noise_log10_A:LinearExp(pmin=-20, pmax=-11), J1910+1256_red_noise_gamma:Uniform(pmin=0, pmax=7), J1910+1256_red_noise_log10_A:LinearExp(pmin=-20, pmax=-11), J1918-0642_red_noise_gamma:Uniform(pmin=0, pmax=7), J1918-0642_red_noise_log10_A:LinearExp(pmin=-20, pmax=-11), J2317+1439_red_noise_gamma:Uniform(pmin=0, pmax=7), J2317+1439_red_noise_log10_A:LinearExp(pmin=-20, pmax=-11), log10_A_gw:LinearExp(pmin=-18, pmax=-12)]\n"
     ]
    }
   ],
   "source": [
    "print(pta.params)"
   ]
  },
  {
   "cell_type": "code",
   "execution_count": 111,
   "metadata": {},
   "outputs": [],
   "source": [
    "x0 = np.hstack([p.sample() for p in pta.params])\n",
    "ndim = len(x0)"
   ]
  },
  {
   "cell_type": "code",
   "execution_count": 112,
   "metadata": {},
   "outputs": [],
   "source": [
    "# initial jump covariance matrix\n",
    "cov = np.diag(np.ones(ndim) * 0.01**2)\n",
    "outDir = os.path.join(os.getcwd(), 'chains_pta_test')\n",
    "\n",
    "sampler = ptmcmc(ndim, pta.get_lnlikelihood, pta.get_lnprior, cov, \n",
    "                 outDir=outDir, resume=False)"
   ]
  },
  {
   "cell_type": "code",
   "execution_count": 113,
   "metadata": {},
   "outputs": [
    {
     "output_type": "stream",
     "name": "stdout",
     "text": [
      "Finished 1.43 percent in 69.233991 s Acceptance rate = 0.45Adding DE jump with weight 50\n",
      "Finished 99.86 percent in 4760.737121 s Acceptance rate = 0.269266\n",
      "Run Complete\n"
     ]
    }
   ],
   "source": [
    "# sampler for N steps\n",
    "N = int(7e5)  # normally, we would use 5e6 samples (this will save time)\n",
    "x0 = np.hstack([p.sample() for p in pta.params])\n",
    "sampler.sample(x0, N, SCAMweight=30, AMweight=15, DEweight=50, )"
   ]
  },
  {
   "cell_type": "code",
   "execution_count": 114,
   "metadata": {},
   "outputs": [],
   "source": [
    "chain = np.loadtxt(os.path.join(outDir, 'chain_1.txt'))\n",
    "burn = int(0.25 * chain.shape[0])"
   ]
  },
  {
   "cell_type": "code",
   "execution_count": 115,
   "metadata": {},
   "outputs": [
    {
     "output_type": "execute_result",
     "data": {
      "text/plain": [
       "[<matplotlib.lines.Line2D at 0x7fdd2d4b1820>]"
      ]
     },
     "metadata": {},
     "execution_count": 115
    },
    {
     "output_type": "display_data",
     "data": {
      "text/plain": "<Figure size 432x288 with 1 Axes>",
      "image/png": "[encoded data removed]"
     },
     "metadata": {
      "image/png": {
       "width": 386,
       "height": 248
      },
      "needs_background": "light"
     }
    }
   ],
   "source": [
    "ind = list(pta.param_names).index('log10_A_gw')\n",
    "# Make trace-plot to diagnose sampling\n",
    "plt.plot(chain[burn:, ind])"
   ]
  },
  {
   "cell_type": "code",
   "execution_count": 116,
   "metadata": {},
   "outputs": [
    {
     "output_type": "execute_result",
     "data": {
      "text/plain": [
       "Text(0, 0.5, 'PDF')"
      ]
     },
     "metadata": {},
     "execution_count": 116
    },
    {
     "output_type": "display_data",
     "data": {
      "text/plain": "<Figure size 432x288 with 1 Axes>",
      "image/png": "[encoded data removed]"
     },
     "metadata": {
      "image/png": {
       "width": 395,
       "height": 262
      },
      "needs_background": "light"
     }
    }
   ],
   "source": [
    "# Plot a histogram of the marginalized posterior distribution\n",
    "plt.hist(chain[burn:,ind], 50, histtype='stepfilled', \n",
    "         lw=2, color='C0', alpha=0.5)\n",
    "plt.xlabel('log10_A_gw')\n",
    "plt.ylabel('PDF')"
   ]
  },
  {
   "cell_type": "code",
   "execution_count": 117,
   "metadata": {},
   "outputs": [
    {
     "output_type": "stream",
     "name": "stdout",
     "text": [
      "['J0613-0200_red_noise_gamma', 'J0613-0200_red_noise_log10_A', 'J1600-3053_red_noise_gamma', 'J1600-3053_red_noise_log10_A', 'J1744-1134_red_noise_gamma', 'J1744-1134_red_noise_log10_A', 'J1909-3744_red_noise_gamma', 'J1909-3744_red_noise_log10_A', 'J1910+1256_red_noise_gamma', 'J1910+1256_red_noise_log10_A', 'J1918-0642_red_noise_gamma', 'J1918-0642_red_noise_log10_A', 'J2317+1439_red_noise_gamma', 'J2317+1439_red_noise_log10_A', 'log10_A_gw']\n14\nB1855+09\n4.401116431640455e-15\n"
     ]
    }
   ],
   "source": [
    "upper = 10**np.percentile(chain[burn:, ind], q=95)\n",
    "print(pta.param_names)\n",
    "print(ind)\n",
    "print(psrs[0].name)\n",
    "print(upper)"
   ]
  },
  {
   "cell_type": "code",
   "execution_count": 66,
   "metadata": {},
   "outputs": [],
   "source": [
    "# Make 2d histogram plot for white noise\n",
    "# ind_end = len(pta.params)\n",
    "# fig = corner.corner(chain[burn:, np.arange(ind_end)],\n",
    "#                     labels=list(pta.param_names[0:ind_end]), label_kwargs={\"fontsize\": 7},\n",
    "#                     levels=[0.68,0.95]);"
   ]
  },
  {
   "cell_type": "code",
   "execution_count": 68,
   "metadata": {},
   "outputs": [
    {
     "output_type": "execute_result",
     "data": {
      "text/plain": [
       "[B1855+09_red_noise_gamma:Uniform(pmin=0, pmax=7),\n",
       " B1855+09_red_noise_log10_A:LinearExp(pmin=-20, pmax=-11),\n",
       " B1937+21_red_noise_gamma:Uniform(pmin=0, pmax=7),\n",
       " B1937+21_red_noise_log10_A:LinearExp(pmin=-20, pmax=-11),\n",
       " B1953+29_red_noise_gamma:Uniform(pmin=0, pmax=7),\n",
       " B1953+29_red_noise_log10_A:LinearExp(pmin=-20, pmax=-11),\n",
       " J0030+0451_red_noise_gamma:Uniform(pmin=0, pmax=7),\n",
       " J0030+0451_red_noise_log10_A:LinearExp(pmin=-20, pmax=-11),\n",
       " log10_A_gw:LinearExp(pmin=-18, pmax=-12)]"
      ]
     },
     "metadata": {},
     "execution_count": 68
    }
   ],
   "source": [
    "pta.params"
   ]
  },
  {
   "cell_type": "code",
   "execution_count": null,
   "metadata": {},
   "outputs": [],
   "source": []
  }
 ]
}