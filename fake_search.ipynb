{
 "cells": [
  {
   "cell_type": "code",
   "execution_count": 1,
   "metadata": {},
   "outputs": [],
   "source": [
    "%matplotlib inline\n",
    "%config InlineBackend.figure_format = 'retina'\n",
    "%load_ext autoreload\n",
    "%autoreload 2\n",
    "\n",
    "import os, glob, json, pickle\n",
    "import matplotlib.pyplot as plt\n",
    "import numpy as np\n",
    "import scipy.linalg as sl\n",
    "\n",
    "import enterprise\n",
    "from enterprise.pulsar import Pulsar\n",
    "import enterprise.signals.parameter as parameter\n",
    "from enterprise.signals import utils\n",
    "from enterprise.signals import signal_base\n",
    "from enterprise.signals import selections\n",
    "from enterprise.signals.selections import Selection\n",
    "from enterprise.signals import white_signals\n",
    "from enterprise.signals import gp_signals\n",
    "from enterprise.signals import deterministic_signals\n",
    "import enterprise.constants as const\n",
    "\n",
    "import corner\n",
    "from PTMCMCSampler.PTMCMCSampler import PTSampler as ptmcmc\n",
    "import enterprise_extensions\n",
    "from enterprise_extensions import models, sampler, model_utils"
   ]
  },
  {
   "cell_type": "code",
   "execution_count": 2,
   "metadata": {},
   "outputs": [
    {
     "name": "stderr",
     "output_type": "stream",
     "text": [
      "WARNING: enterprise.pulsar: WARNING: Could not find pulsar distance for PSR J1614-2230. Setting value to 1 with 20% uncertainty.\n",
      "WARNING: enterprise.pulsar: WARNING: Could not find pulsar distance for PSR J1738+0333. Setting value to 1 with 20% uncertainty.\n",
      "WARNING: enterprise.pulsar: WARNING: Could not find pulsar distance for PSR J1741+1351. Setting value to 1 with 20% uncertainty.\n",
      "WARNING: enterprise.pulsar: WARNING: Could not find pulsar distance for PSR J1903+0327. Setting value to 1 with 20% uncertainty.\n",
      "WARNING: enterprise.pulsar: WARNING: Could not find pulsar distance for PSR J2010-1323. Setting value to 1 with 20% uncertainty.\n"
     ]
    }
   ],
   "source": [
    "# import the par and tim files\n",
    "datadir = './fakes_gwb3'\n",
    "\n",
    "parfiles = sorted(glob.glob(datadir + '/par/' + '*.par'))\n",
    "timfiles = sorted(glob.glob(datadir + '/tim/' + '*.tim'))\n",
    "\n",
    "psrs = []\n",
    "for p, t in zip(parfiles, timfiles):\n",
    "    psrname = parfiles[0].split('/')[-1].split('_')[0]\n",
    "    psr = Pulsar(p, t, ephem='DE438')\n",
    "    psrs.append(psr)"
   ]
  },
  {
   "cell_type": "code",
   "execution_count": 3,
   "metadata": {},
   "outputs": [
    {
     "name": "stdout",
     "output_type": "stream",
     "text": [
      "B1855+09\n",
      "B1937+21\n",
      "J0030+0451\n",
      "J0613-0200\n",
      "J1012+5307\n",
      "J1024-0719\n",
      "J1455-3330\n",
      "J1600-3053\n",
      "J1614-2230\n",
      "J1640+2224\n",
      "J1643-1224\n",
      "J1713+0747\n",
      "J1738+0333\n",
      "J1741+1351\n",
      "J1744-1134\n",
      "J1903+0327\n",
      "J1909-3744\n",
      "J1910+1256\n",
      "J1918-0642\n",
      "J2010-1323\n",
      "J2145-0750\n",
      "J2317+1439\n"
     ]
    }
   ],
   "source": [
    "for psr in psrs:\n",
    "    print(psr.name)"
   ]
  },
  {
   "cell_type": "code",
   "execution_count": 19,
   "metadata": {},
   "outputs": [],
   "source": [
    "def gwb_ul(psrs_cut):\n",
    "\n",
    "    # find the maximum time span to set GW frequency sampling\n",
    "    tmin = [p.toas.min() for p in psrs_cut]\n",
    "    tmax = [p.toas.max() for p in psrs_cut]\n",
    "    Tspan = np.max(tmax) - np.min(tmin)\n",
    "    # define selection by observing backend\n",
    "    selection = selections.Selection(selections.by_backend)\n",
    "    # white noise parameters\n",
    "    # we set these ourselves so we know the most likely values!\n",
    "    efac = parameter.Constant(1)\n",
    "    equad = parameter.Constant(0)\n",
    "    ecorr = parameter.Constant(0)\n",
    "\n",
    "    # red noise parameters\n",
    "    log10_A = parameter.LinearExp(-20, -11)\n",
    "    gamma = parameter.LinearExp(0, 7)\n",
    "\n",
    "    # GW parameters (initialize with names here to use parameters in common across pulsars)\n",
    "    log10_A_gw = parameter.LinearExp(-18,-12)('log10_A_gw')\n",
    "    gamma_gw = parameter.Constant(4.33)('gamma_gw')\n",
    "    # white noise\n",
    "    ef = white_signals.MeasurementNoise(efac=efac, selection=selection)\n",
    "    eq = white_signals.EquadNoise(log10_equad=equad, selection=selection)\n",
    "    ec = white_signals.EcorrKernelNoise(log10_ecorr=ecorr, selection=selection)\n",
    "\n",
    "    # red noise (powerlaw with 30 frequencies)\n",
    "    pl = utils.powerlaw(log10_A=log10_A, gamma=gamma)\n",
    "    rn = gp_signals.FourierBasisGP(spectrum=pl, components=30, Tspan=Tspan)\n",
    "\n",
    "    # gwb (no spatial correlations)\n",
    "    cpl = utils.powerlaw(log10_A=log10_A_gw, gamma=gamma_gw)\n",
    "    gw = gp_signals.FourierBasisGP(spectrum=cpl, components=30, Tspan=Tspan, name='gw')\n",
    "\n",
    "    # timing model\n",
    "    tm = gp_signals.TimingModel(use_svd=True) # stabilizing timing model design matrix with SVD\n",
    "    s = ef + rn + gw + tm\n",
    "\n",
    "    # intialize PTA\n",
    "    models = []\n",
    "\n",
    "    for p in psrs_cut:\n",
    "        models.append(s(p))\n",
    "\n",
    "    pta = signal_base.PTA(models)\n",
    "    outDir = './chains/{0}_psrs/{1}'.format(len(best_list) + 1, psrs_cut[-1].name)\n",
    "    sample = sampler.setup_sampler(pta, outdir=outDir)\n",
    "    x0 = np.hstack([p.sample() for p in pta.params])\n",
    "\n",
    "    # sampler for N steps\n",
    "    N = int(1e6)  # normally, we would use 5e6 samples (this will save time)\n",
    "    sample.sample(x0, N, SCAMweight=30, AMweight=15, DEweight=50, )\n",
    "\n",
    "    chain = np.loadtxt(os.path.join(outDir, 'chain_1.txt'))\n",
    "    pars = np.loadtxt(outDir + '/pars.txt', dtype=np.unicode_)\n",
    "    ind = list(pars).index('log10_A_gw')\n",
    "\n",
    "    UL = model_utils.ul(chain[:,ind])\n",
    "    return UL"
   ]
  },
  {
   "cell_type": "code",
   "execution_count": 20,
   "metadata": {},
   "outputs": [],
   "source": [
    "def find_ul(psrs, best_list, ul_list, i):\n",
    "    # for i in range(start, len(psrs)):  # find the best pulsar each time\n",
    "    psrscut = []  # pulsars to be tested\n",
    "    for num in best_list:\n",
    "        psrscut.append(psrs[num])  # append best_list to psrscut\n",
    "        print(psrs[num].name)\n",
    "    psrscut.append(psrs[i])  # append the test case to psrscut\n",
    "    print(psrs[i].name)\n",
    "    if i in best_list:  # don't double up on pulsars\n",
    "        print('psr in list already... skipping....')\n",
    "        ul = 0\n",
    "    else:\n",
    "        print('number of pulsars =', len(psrscut))\n",
    "        ul = gwb_ul(psrscut)[0]\n",
    "    fname = 'ul_data_{0}_psrs_pid_{1}.txt'.format(len(best_list) + 1, os.getpid())\n",
    "    with open(fname, 'ab') as f:\n",
    "        np.savetxt(f, [i, ul])  # save the upper limits to file\n",
    "    # best_list.append(np.argmin(ul_list)[0]) # append the best ul to best_list\n",
    "    return ul\n",
    "\n",
    "def multi_ul(i):\n",
    "    ul = find_ul(psrs, best_list, ul_list, i)\n",
    "    return ul\n"
   ]
  },
  {
   "cell_type": "code",
   "execution_count": 21,
   "metadata": {},
   "outputs": [],
   "source": [
    "from multiprocessing import Pool"
   ]
  },
  {
   "cell_type": "code",
   "execution_count": 9,
   "metadata": {},
   "outputs": [
    {
     "name": "stdout",
     "output_type": "stream",
     "text": [
      "B1855+09J0613-0200\n",
      "\n",
      "number of pulsars =number of pulsars =  11\n",
      "\n",
      "J1455-3330\n",
      "number of pulsars = 1\n",
      "J1640+2224\n",
      "number of pulsars = 1\n",
      "J1738+0333\n",
      "number of pulsars = 1\n",
      "J1903+0327\n",
      "number of pulsars = 1\n",
      "J1918-0642\n",
      "number of pulsars = 1\n",
      "J2317+1439\n",
      "number of pulsars = 1\n"
     ]
    },
    {
     "ename": "IndexError",
     "evalue": "list index out of range",
     "output_type": "error",
     "traceback": [
      "\u001b[0;31m---------------------------------------------------------------------------\u001b[0m",
      "\u001b[0;31mRemoteTraceback\u001b[0m                           Traceback (most recent call last)",
      "\u001b[0;31mRemoteTraceback\u001b[0m: \n\"\"\"\nTraceback (most recent call last):\n  File \"/Users/aaron/opt/miniconda3/envs/enterprise/lib/python3.7/multiprocessing/pool.py\", line 121, in worker\n    result = (True, func(*args, **kwds))\n  File \"/Users/aaron/opt/miniconda3/envs/enterprise/lib/python3.7/multiprocessing/pool.py\", line 44, in mapstar\n    return list(map(*args))\n  File \"<ipython-input-6-4cb605e7ed4b>\", line 22, in multi_ul\n    ul = find_ul(psrs, best_list, ul_list, i)\n  File \"<ipython-input-6-4cb605e7ed4b>\", line 14, in find_ul\n    ul = gwb_ul(psrscut)[0]\n  File \"<ipython-input-5-5573be64aa27>\", line 46, in gwb_ul\n    outDir = './chains/{0}_psrs/{1}'.format(len(best_list) + 1, psrs_cut[len(psrs_cut)].name)\nIndexError: list index out of range\n\"\"\"",
      "\nThe above exception was the direct cause of the following exception:\n",
      "\u001b[0;31mIndexError\u001b[0m                                Traceback (most recent call last)",
      "\u001b[0;32m<ipython-input-9-7a639c8f13a2>\u001b[0m in \u001b[0;36m<module>\u001b[0;34m\u001b[0m\n\u001b[1;32m      3\u001b[0m \u001b[0mpool\u001b[0m \u001b[0;34m=\u001b[0m \u001b[0mPool\u001b[0m\u001b[0;34m(\u001b[0m\u001b[0mprocesses\u001b[0m\u001b[0;34m=\u001b[0m\u001b[0;36m2\u001b[0m\u001b[0;34m)\u001b[0m\u001b[0;34m\u001b[0m\u001b[0;34m\u001b[0m\u001b[0m\n\u001b[1;32m      4\u001b[0m \u001b[0;32mfor\u001b[0m \u001b[0mj\u001b[0m \u001b[0;32min\u001b[0m \u001b[0mrange\u001b[0m\u001b[0;34m(\u001b[0m\u001b[0mlen\u001b[0m\u001b[0;34m(\u001b[0m\u001b[0mpsrs\u001b[0m\u001b[0;34m)\u001b[0m\u001b[0;34m)\u001b[0m\u001b[0;34m:\u001b[0m  \u001b[0;31m# cycle through once for each pulsar\u001b[0m\u001b[0;34m\u001b[0m\u001b[0;34m\u001b[0m\u001b[0m\n\u001b[0;32m----> 5\u001b[0;31m     \u001b[0mupper\u001b[0m \u001b[0;34m=\u001b[0m \u001b[0mpool\u001b[0m\u001b[0;34m.\u001b[0m\u001b[0mmap\u001b[0m\u001b[0;34m(\u001b[0m\u001b[0mmulti_ul\u001b[0m\u001b[0;34m,\u001b[0m \u001b[0mrange\u001b[0m\u001b[0;34m(\u001b[0m\u001b[0mlen\u001b[0m\u001b[0;34m(\u001b[0m\u001b[0mpsrs\u001b[0m\u001b[0;34m)\u001b[0m\u001b[0;34m)\u001b[0m\u001b[0;34m)\u001b[0m\u001b[0;34m\u001b[0m\u001b[0;34m\u001b[0m\u001b[0m\n\u001b[0m\u001b[1;32m      6\u001b[0m     \u001b[0mul_list\u001b[0m\u001b[0;34m.\u001b[0m\u001b[0mappend\u001b[0m\u001b[0;34m(\u001b[0m\u001b[0mupper\u001b[0m\u001b[0;34m)\u001b[0m\u001b[0;34m\u001b[0m\u001b[0;34m\u001b[0m\u001b[0m\n\u001b[1;32m      7\u001b[0m     \u001b[0mpool\u001b[0m\u001b[0;34m.\u001b[0m\u001b[0mclose\u001b[0m\u001b[0;34m(\u001b[0m\u001b[0;34m)\u001b[0m\u001b[0;34m\u001b[0m\u001b[0;34m\u001b[0m\u001b[0m\n",
      "\u001b[0;32m~/opt/miniconda3/envs/enterprise/lib/python3.7/multiprocessing/pool.py\u001b[0m in \u001b[0;36mmap\u001b[0;34m(self, func, iterable, chunksize)\u001b[0m\n\u001b[1;32m    266\u001b[0m         \u001b[0;32min\u001b[0m \u001b[0ma\u001b[0m \u001b[0mlist\u001b[0m \u001b[0mthat\u001b[0m \u001b[0;32mis\u001b[0m \u001b[0mreturned\u001b[0m\u001b[0;34m.\u001b[0m\u001b[0;34m\u001b[0m\u001b[0;34m\u001b[0m\u001b[0m\n\u001b[1;32m    267\u001b[0m         '''\n\u001b[0;32m--> 268\u001b[0;31m         \u001b[0;32mreturn\u001b[0m \u001b[0mself\u001b[0m\u001b[0;34m.\u001b[0m\u001b[0m_map_async\u001b[0m\u001b[0;34m(\u001b[0m\u001b[0mfunc\u001b[0m\u001b[0;34m,\u001b[0m \u001b[0miterable\u001b[0m\u001b[0;34m,\u001b[0m \u001b[0mmapstar\u001b[0m\u001b[0;34m,\u001b[0m \u001b[0mchunksize\u001b[0m\u001b[0;34m)\u001b[0m\u001b[0;34m.\u001b[0m\u001b[0mget\u001b[0m\u001b[0;34m(\u001b[0m\u001b[0;34m)\u001b[0m\u001b[0;34m\u001b[0m\u001b[0;34m\u001b[0m\u001b[0m\n\u001b[0m\u001b[1;32m    269\u001b[0m \u001b[0;34m\u001b[0m\u001b[0m\n\u001b[1;32m    270\u001b[0m     \u001b[0;32mdef\u001b[0m \u001b[0mstarmap\u001b[0m\u001b[0;34m(\u001b[0m\u001b[0mself\u001b[0m\u001b[0;34m,\u001b[0m \u001b[0mfunc\u001b[0m\u001b[0;34m,\u001b[0m \u001b[0miterable\u001b[0m\u001b[0;34m,\u001b[0m \u001b[0mchunksize\u001b[0m\u001b[0;34m=\u001b[0m\u001b[0;32mNone\u001b[0m\u001b[0;34m)\u001b[0m\u001b[0;34m:\u001b[0m\u001b[0;34m\u001b[0m\u001b[0;34m\u001b[0m\u001b[0m\n",
      "\u001b[0;32m~/opt/miniconda3/envs/enterprise/lib/python3.7/multiprocessing/pool.py\u001b[0m in \u001b[0;36mget\u001b[0;34m(self, timeout)\u001b[0m\n\u001b[1;32m    655\u001b[0m             \u001b[0;32mreturn\u001b[0m \u001b[0mself\u001b[0m\u001b[0;34m.\u001b[0m\u001b[0m_value\u001b[0m\u001b[0;34m\u001b[0m\u001b[0;34m\u001b[0m\u001b[0m\n\u001b[1;32m    656\u001b[0m         \u001b[0;32melse\u001b[0m\u001b[0;34m:\u001b[0m\u001b[0;34m\u001b[0m\u001b[0;34m\u001b[0m\u001b[0m\n\u001b[0;32m--> 657\u001b[0;31m             \u001b[0;32mraise\u001b[0m \u001b[0mself\u001b[0m\u001b[0;34m.\u001b[0m\u001b[0m_value\u001b[0m\u001b[0;34m\u001b[0m\u001b[0;34m\u001b[0m\u001b[0m\n\u001b[0m\u001b[1;32m    658\u001b[0m \u001b[0;34m\u001b[0m\u001b[0m\n\u001b[1;32m    659\u001b[0m     \u001b[0;32mdef\u001b[0m \u001b[0m_set\u001b[0m\u001b[0;34m(\u001b[0m\u001b[0mself\u001b[0m\u001b[0;34m,\u001b[0m \u001b[0mi\u001b[0m\u001b[0;34m,\u001b[0m \u001b[0mobj\u001b[0m\u001b[0;34m)\u001b[0m\u001b[0;34m:\u001b[0m\u001b[0;34m\u001b[0m\u001b[0;34m\u001b[0m\u001b[0m\n",
      "\u001b[0;31mIndexError\u001b[0m: list index out of range"
     ]
    }
   ],
   "source": [
    "best_list = []  # to store pulsar order\n",
    "filename = 'best_list.txt'\n",
    "for j in range(len(best_list), len(psrs)):  # cycle through once for each pulsar\n",
    "    ul_list = []\n",
    "    pool = Pool(processes=10)\n",
    "    upper = pool.map(multi_ul, range(len(psrs)))\n",
    "    ul_list.append(upper)\n",
    "    pool.close()\n",
    "    pool.join()\n",
    "    best_ul = np.argmin(ul_list)[0]\n",
    "    best_list.append(best_ul)\n",
    "    with open(filename, 'ab') as f:\n",
    "        np.savetxt(f, np.c_[j, best_ul])"
   ]
  },
  {
   "cell_type": "code",
   "execution_count": null,
   "metadata": {},
   "outputs": [],
   "source": []
  }
 ],
 "metadata": {
  "kernelspec": {
   "display_name": "Python 3",
   "language": "python",
   "name": "python3"
  },
  "language_info": {
   "codemirror_mode": {
    "name": "ipython",
    "version": 3
   },
   "file_extension": ".py",
   "mimetype": "text/x-python",
   "name": "python",
   "nbconvert_exporter": "python",
   "pygments_lexer": "ipython3",
   "version": "3.7.9"
  }
 },
 "nbformat": 4,
 "nbformat_minor": 2
}
