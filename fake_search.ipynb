{
 "metadata": {
  "language_info": {
   "codemirror_mode": {
    "name": "ipython",
    "version": 3
   },
   "file_extension": ".py",
   "mimetype": "text/x-python",
   "name": "python",
   "nbconvert_exporter": "python",
   "pygments_lexer": "ipython3",
   "version": "3.7.9-final"
  },
  "orig_nbformat": 2,
  "kernelspec": {
   "name": "python3",
   "display_name": "Python 3.7.9 64-bit ('enterprise': conda)",
   "metadata": {
    "interpreter": {
     "hash": "14ad25d5e156a88d322191acd8b56cc4107bca2d0fdd9d187e0601c0e0539739"
    }
   }
  }
 },
 "nbformat": 4,
 "nbformat_minor": 2,
 "cells": [
  {
   "cell_type": "code",
   "execution_count": 1,
   "metadata": {},
   "outputs": [],
   "source": [
    "%matplotlib inline\n",
    "%config InlineBackend.figure_format = 'retina'\n",
    "%load_ext autoreload\n",
    "%autoreload 2\n",
    "\n",
    "import os, glob, json, pickle\n",
    "import matplotlib.pyplot as plt\n",
    "import numpy as np\n",
    "import scipy.linalg as sl\n",
    "\n",
    "import enterprise\n",
    "from enterprise.pulsar import Pulsar\n",
    "import enterprise.signals.parameter as parameter\n",
    "from enterprise.signals import utils\n",
    "from enterprise.signals import signal_base\n",
    "from enterprise.signals import selections\n",
    "from enterprise.signals.selections import Selection\n",
    "from enterprise.signals import white_signals\n",
    "from enterprise.signals import gp_signals\n",
    "from enterprise.signals import deterministic_signals\n",
    "import enterprise.constants as const\n",
    "\n",
    "import corner\n",
    "from PTMCMCSampler.PTMCMCSampler import PTSampler as ptmcmc\n",
    "import enterprise_extensions\n",
    "from enterprise_extensions import models, sampler, model_utils"
   ]
  },
  {
   "cell_type": "code",
   "execution_count": 2,
   "metadata": {},
   "outputs": [
    {
     "output_type": "stream",
     "name": "stderr",
     "text": [
      "WARNING: enterprise.pulsar: WARNING: Could not find pulsar distance for PSR J1614-2230. Setting value to 1 with 20% uncertainty.\n",
      "WARNING: enterprise.pulsar: WARNING: Could not find pulsar distance for PSR J1738+0333. Setting value to 1 with 20% uncertainty.\n",
      "WARNING: enterprise.pulsar: WARNING: Could not find pulsar distance for PSR J1741+1351. Setting value to 1 with 20% uncertainty.\n",
      "WARNING: enterprise.pulsar: WARNING: Could not find pulsar distance for PSR J1903+0327. Setting value to 1 with 20% uncertainty.\n",
      "WARNING: enterprise.pulsar: WARNING: Could not find pulsar distance for PSR J2010-1323. Setting value to 1 with 20% uncertainty.\n"
     ]
    }
   ],
   "source": [
    "# import the par and tim files\n",
    "datadir = './fakes_gwb3'\n",
    "\n",
    "parfiles = sorted(glob.glob(datadir + '/par/' + '*.par'))\n",
    "timfiles = sorted(glob.glob(datadir + '/tim/' + '*.tim'))\n",
    "\n",
    "psrs = []\n",
    "for p, t in zip(parfiles, timfiles):\n",
    "    psrname = parfiles[0].split('/')[-1].split('_')[0]\n",
    "    psr = Pulsar(p, t, ephem='DE438')\n",
    "    psrs.append(psr)"
   ]
  },
  {
   "cell_type": "code",
   "execution_count": 5,
   "metadata": {},
   "outputs": [
    {
     "output_type": "stream",
     "name": "stdout",
     "text": [
      "B1855+09\nB1937+21\nJ0030+0451\nJ0613-0200\nJ1012+5307\nJ1024-0719\nJ1455-3330\nJ1600-3053\nJ1614-2230\nJ1640+2224\nJ1643-1224\nJ1713+0747\nJ1738+0333\nJ1741+1351\nJ1744-1134\nJ1903+0327\nJ1909-3744\nJ1910+1256\nJ1918-0642\nJ2010-1323\nJ2145-0750\nJ2317+1439\n"
     ]
    }
   ],
   "source": [
    "for psr in psrs:\n",
    "    print(psr.name)"
   ]
  },
  {
   "cell_type": "code",
   "execution_count": 6,
   "metadata": {},
   "outputs": [
    {
     "output_type": "error",
     "ename": "SyntaxError",
     "evalue": "invalid syntax (<ipython-input-6-564328e5bd86>, line 16)",
     "traceback": [
      "\u001b[0;36m  File \u001b[0;32m\"<ipython-input-6-564328e5bd86>\"\u001b[0;36m, line \u001b[0;32m16\u001b[0m\n\u001b[0;31m    log10_A = parameter.LineaAQ rExp(-20, -11)\u001b[0m\n\u001b[0m                                   ^\u001b[0m\n\u001b[0;31mSyntaxError\u001b[0m\u001b[0;31m:\u001b[0m invalid syntax\n"
     ]
    }
   ],
   "source": [
    "def gwb_ul(psrs_cut):\n",
    "\n",
    "    # find the maximum time span to set GW frequency sampling\n",
    "    tmin = [p.toas.min() for p in psrs_cut]\n",
    "    tmax = [p.toas.max() for p in psrs_cut]\n",
    "    Tspan = np.max(tmax) - np.min(tmin)\n",
    "    # define selection by observing backend\n",
    "    selection = selections.Selection(selections.by_backend)\n",
    "    # white noise parameters\n",
    "    # we set these ourselves so we know the most likely values!\n",
    "    efac = parameter.Constant(1)\n",
    "    equad = parameter.Constant(0)\n",
    "    ecorr = parameter.Constant(0)\n",
    "\n",
    "    # red noise parameters\n",
    "    log10_A = parameter.LinearExp(-20, -11)\n",
    "    gamma = parameter.LinearExp(0, 7)\n",
    "\n",
    "    # GW parameters (initialize with names here to use parameters in common across pulsars)\n",
    "    log10_A_gw = parameter.LinearExp(-18,-12)('log10_A_gw')\n",
    "    gamma_gw = parameter.Constant(4.33)('gamma_gw')\n",
    "    # white noise\n",
    "    ef = white_signals.MeasurementNoise(efac=efac, selection=selection)\n",
    "    eq = white_signals.EquadNoise(log10_equad=equad, selection=selection)\n",
    "    ec = white_signals.EcorrKernelNoise(log10_ecorr=ecorr, selection=selection)\n",
    "\n",
    "    # red noise (powerlaw with 30 frequencies)\n",
    "    pl = utils.powerlaw(log10_A=log10_A, gamma=gamma)\n",
    "    rn = gp_signals.FourierBasisGP(spectrum=pl, components=30, Tspan=Tspan)\n",
    "\n",
    "    # gwb (no spatial correlations)\n",
    "    cpl = utils.powerlaw(log10_A=log10_A_gw, gamma=gamma_gw)\n",
    "    gw = gp_signals.FourierBasisGP(spectrum=cpl, components=30, Tspan=Tspan, name='gw')\n",
    "\n",
    "    # timing model\n",
    "    tm = gp_signals.TimingModel(use_svd=True) # stabilizing timing model design matrix with SVD\n",
    "    s = ef + rn + gw + tm\n",
    "\n",
    "    # intialize PTA\n",
    "    models = []\n",
    "\n",
    "    for p in psrs_cut:\n",
    "        models.append(s(p))\n",
    "\n",
    "    pta = signal_base.PTA(models)\n",
    "    outDir = './chains_pta_test'\n",
    "    sample = sampler.setup_sampler(pta, outdir=outDir)\n",
    "    x0 = np.hstack([p.sample() for p in pta.params])\n",
    "\n",
    "    # sampler for N steps\n",
    "    N = int(3e5)  # normally, we would use 5e6 samples (this will save time)\n",
    "    sample.sample(x0, N, SCAMweight=30, AMweight=15, DEweight=50, )\n",
    "\n",
    "    chain = np.loadtxt(os.path.join(outDir, 'chain_1.txt'))\n",
    "    pars = np.loadtxt('./chains_pta_test/pars.txt', dtype=np.unicode_)\n",
    "    ind = list(pars).index('log10_A_gw')\n",
    "\n",
    "    UL = model_utils.ul(chain[:,ind])\n",
    "    return UL"
   ]
  },
  {
   "cell_type": "code",
   "execution_count": null,
   "metadata": {},
   "outputs": [],
   "source": [
    "best_list = []\n",
    "ul_list = []\n",
    "num_list = []\n",
    "for i in range(len(psrs)):\n",
    "    psrscut = []\n",
    "    print(i)\n",
    "    psrscut.append(psrs[i])\n",
    "    ul_list.append(gwb_ul(psrscut))\n",
    "    num_list.append(i)\n",
    "    print(i, ul_list[i])\n",
    "print(ul_list)"
   ]
  },
  {
   "cell_type": "code",
   "execution_count": null,
   "metadata": {},
   "outputs": [],
   "source": []
  }
 ]
}