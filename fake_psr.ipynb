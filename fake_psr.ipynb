{
 "cells": [
  {
   "cell_type": "code",
   "execution_count": 4,
   "metadata": {},
   "outputs": [],
   "source": [
    "import numpy as np\n",
    "import glob, os, json\n",
    "import pickle\n",
    "\n",
    "import matplotlib.pyplot as plt\n",
    "import corner\n",
    "%matplotlib inline\n",
    "%config InlineBackend.figure_format = 'retina'\n",
    "\n",
    "import enterprise\n",
    "from enterprise.pulsar import Pulsar\n",
    "import enterprise.signals.parameter as parameter\n",
    "from enterprise.signals import utils\n",
    "from enterprise.signals import signal_base\n",
    "from enterprise.signals import selections\n",
    "from enterprise.signals.selections import Selection\n",
    "from enterprise.signals import white_signals\n",
    "from enterprise.signals import gp_signals\n",
    "from enterprise.signals import deterministic_signals\n",
    "\n",
    "from PTMCMCSampler.PTMCMCSampler import PTSampler as ptmcmc\n",
    "\n",
    "import libstempo as libs\n",
    "import libstempo.plot as LP, libstempo.toasim as LT"
   ]
  },
  {
   "cell_type": "code",
   "execution_count": 2,
   "metadata": {},
   "outputs": [
    {
     "output_type": "stream",
     "name": "stderr",
     "text": [
      "WARNING: enterprise.pulsar: WARNING: Could not find pulsar distance for PSR J0023+0923. Setting value to 1 with 20% uncertainty.\n",
      "WARNING: enterprise.pulsar: WARNING: Could not find pulsar distance for PSR J0340+4130. Setting value to 1 with 20% uncertainty.\n",
      "WARNING: enterprise.pulsar: WARNING: Could not find pulsar distance for PSR J0636+5128. Setting value to 1 with 20% uncertainty.\n",
      "WARNING: enterprise.pulsar: WARNING: Could not find pulsar distance for PSR J0645+5158. Setting value to 1 with 20% uncertainty.\n",
      "WARNING: enterprise.pulsar: WARNING: Could not find pulsar distance for PSR J0740+6620. Setting value to 1 with 20% uncertainty.\n",
      "WARNING: enterprise.pulsar: WARNING: Could not find pulsar distance for PSR J0931-1902. Setting value to 1 with 20% uncertainty.\n",
      "WARNING: enterprise.pulsar: WARNING: Could not find pulsar distance for PSR J1125+7819. Setting value to 1 with 20% uncertainty.\n",
      "WARNING: enterprise.pulsar: WARNING: Could not find pulsar distance for PSR J1453+1902. Setting value to 1 with 20% uncertainty.\n",
      "WARNING: enterprise.pulsar: WARNING: Could not find pulsar distance for PSR J1614-2230. Setting value to 1 with 20% uncertainty.\n",
      "WARNING: enterprise.pulsar: WARNING: Could not find pulsar distance for PSR J1738+0333. Setting value to 1 with 20% uncertainty.\n",
      "WARNING: enterprise.pulsar: WARNING: Could not find pulsar distance for PSR J1741+1351. Setting value to 1 with 20% uncertainty.\n",
      "WARNING: enterprise.pulsar: WARNING: Could not find pulsar distance for PSR J1747-4036. Setting value to 1 with 20% uncertainty.\n",
      "WARNING: enterprise.pulsar: WARNING: Could not find pulsar distance for PSR J1832-0836. Setting value to 1 with 20% uncertainty.\n",
      "WARNING: enterprise.pulsar: WARNING: Could not find pulsar distance for PSR J1853+1303. Setting value to 1 with 20% uncertainty.\n",
      "WARNING: enterprise.pulsar: WARNING: Could not find pulsar distance for PSR J1903+0327. Setting value to 1 with 20% uncertainty.\n",
      "WARNING: enterprise.pulsar: WARNING: Could not find pulsar distance for PSR J1911+1347. Setting value to 1 with 20% uncertainty.\n",
      "WARNING: enterprise.pulsar: WARNING: Could not find pulsar distance for PSR J1923+2515. Setting value to 1 with 20% uncertainty.\n",
      "WARNING: enterprise.pulsar: WARNING: Could not find pulsar distance for PSR J1944+0907. Setting value to 1 with 20% uncertainty.\n",
      "WARNING: enterprise.pulsar: WARNING: Could not find pulsar distance for PSR J2010-1323. Setting value to 1 with 20% uncertainty.\n",
      "WARNING: enterprise.pulsar: WARNING: Could not find pulsar distance for PSR J2017+0603. Setting value to 1 with 20% uncertainty.\n",
      "WARNING: enterprise.pulsar: WARNING: Could not find pulsar distance for PSR J2033+1734. Setting value to 1 with 20% uncertainty.\n",
      "WARNING: enterprise.pulsar: WARNING: Could not find pulsar distance for PSR J2043+1711. Setting value to 1 with 20% uncertainty.\n",
      "WARNING: enterprise.pulsar: WARNING: Could not find pulsar distance for PSR J2214+3000. Setting value to 1 with 20% uncertainty.\n",
      "WARNING: enterprise.pulsar: WARNING: Could not find pulsar distance for PSR J2229+2643. Setting value to 1 with 20% uncertainty.\n",
      "WARNING: enterprise.pulsar: WARNING: Could not find pulsar distance for PSR J2234+0611. Setting value to 1 with 20% uncertainty.\n",
      "WARNING: enterprise.pulsar: WARNING: Could not find pulsar distance for PSR J2234+0944. Setting value to 1 with 20% uncertainty.\n",
      "WARNING: enterprise.pulsar: WARNING: Could not find pulsar distance for PSR J2302+4442. Setting value to 1 with 20% uncertainty.\n"
     ]
    }
   ],
   "source": [
    "# import the par and tim files\n",
    "datadir = './data/partim/'\n",
    "\n",
    "parfiles = sorted(glob.glob(datadir + '*.par'))\n",
    "timfiles = sorted(glob.glob(datadir + '*.tim'))\n",
    "\n",
    "psrs = []\n",
    "for p, t in zip(parfiles, timfiles):\n",
    "    psrname = parfiles[0].split('/')[-1].split('_')[0]\n",
    "    psr = Pulsar(p, t, ephem='DE438')\n",
    "    psrs.append(psr)"
   ]
  },
  {
   "cell_type": "code",
   "execution_count": 3,
   "metadata": {},
   "outputs": [
    {
     "output_type": "stream",
     "name": "stdout",
     "text": [
      "B1855+09\nB1937+21\nB1953+29\nJ0023+0923\nJ0030+0451\nJ0340+4130\nJ0613-0200\nJ0636+5128\nJ0645+5158\nJ0740+6620\nJ0931-1902\nJ1012+5307\nJ1024-0719\nJ1125+7819\nJ1453+1902\nJ1455-3330\nJ1600-3053\nJ1614-2230\nJ1640+2224\nJ1643-1224\nJ1713+0747\nJ1738+0333\nJ1741+1351\nJ1744-1134\nJ1747-4036\nJ1832-0836\nJ1853+1303\nJ1903+0327\nJ1909-3744\nJ1910+1256\nJ1911+1347\nJ1918-0642\nJ1923+2515\nJ1944+0907\nJ2010-1323\nJ2017+0603\nJ2033+1734\nJ2043+1711\nJ2145-0750\nJ2214+3000\nJ2229+2643\nJ2234+0611\nJ2234+0944\nJ2302+4442\nJ2317+1439\n"
     ]
    }
   ],
   "source": [
    "for psr in psrs:\n",
    "    print(psr.name)"
   ]
  },
  {
   "cell_type": "code",
   "execution_count": 5,
   "metadata": {},
   "outputs": [],
   "source": [
    "## Get parameter noise dictionary\n",
    "noisedir = os.getcwd() + '/data/noisefiles/'\n",
    "\n",
    "noise_params = {}\n",
    "for filepath in glob.iglob(noisedir + '/*.json'):\n",
    "    with open(filepath, 'r') as f:\n",
    "        noise_params.update(json.load(f))\n",
    "# print(noise_params)"
   ]
  },
  {
   "cell_type": "code",
   "execution_count": 6,
   "metadata": {},
   "outputs": [
    {
     "output_type": "stream",
     "name": "stdout",
     "text": [
      "45\n"
     ]
    }
   ],
   "source": [
    "print(len(parfiles))"
   ]
  },
  {
   "cell_type": "code",
   "execution_count": 7,
   "metadata": {},
   "outputs": [
    {
     "output_type": "stream",
     "name": "stdout",
     "text": [
      "22\n"
     ]
    }
   ],
   "source": [
    "# cut down to pulsars that have been measured for 6 years\n",
    "psrcut = []\n",
    "for psr in psrs:\n",
    "    tmax = max(psr.toas)\n",
    "    tmin = min(psr.toas)\n",
    "    Tspan = tmax - tmin\n",
    "    if Tspan / 525600 / 60 > 6:\n",
    "        psrcut.append(psr)\n",
    "    # print(psr.name)\n",
    "print(len(psrcut))\n"
   ]
  },
  {
   "cell_type": "code",
   "execution_count": 8,
   "metadata": {},
   "outputs": [],
   "source": [
    "pickle.dump(psrcut, open(\"psrs.p\", \"wb\"))"
   ]
  },
  {
   "cell_type": "code",
   "execution_count": 9,
   "metadata": {},
   "outputs": [],
   "source": [
    "psrcut = pickle.load(open(\"psrs.p\", \"rb\"))"
   ]
  },
  {
   "cell_type": "code",
   "execution_count": 13,
   "metadata": {},
   "outputs": [
    {
     "output_type": "stream",
     "name": "stdout",
     "text": [
      "22\n"
     ]
    }
   ],
   "source": [
    "print(len(psrcut))"
   ]
  },
  {
   "cell_type": "code",
   "execution_count": 11,
   "metadata": {},
   "outputs": [],
   "source": [
    "# import each pulsar into tempo2\n",
    "tempopsr = []\n",
    "for psr in psrcut:\n",
    "    parfiles = sorted(glob.glob(datadir + psr.name + '*.par'))\n",
    "    timfiles = sorted(glob.glob(datadir + psr.name + '*.tim'))\n",
    "    psr = libs.tempopulsar(parfile = parfiles[0],\n",
    "                           timfile = timfiles[0], maxobs=50000)\n",
    "    tempopsr.append(psr)"
   ]
  },
  {
   "cell_type": "code",
   "execution_count": 12,
   "metadata": {},
   "outputs": [],
   "source": [
    "# remove all noise from the pulsars\n",
    "# add in EFAC noise\n",
    "for psr in tempopsr:\n",
    "    LT.make_ideal(psr)\n",
    "    LT.add_efac(psr, efac=1.0)\n",
    "    # psr.fit()\n",
    "# LT.createGWB(tempopsr, Amp=2e-15, gam=13./3.)"
   ]
  },
  {
   "cell_type": "code",
   "execution_count": 11,
   "metadata": {},
   "outputs": [
    {
     "output_type": "stream",
     "name": "stdout",
     "text": [
      "B1855+09\n",
      "B1937+21\n",
      "J0030+0451\n",
      "J0613-0200\n",
      "J1012+5307\n",
      "J1024-0719\n",
      "J1455-3330\n",
      "J1600-3053\n",
      "J1614-2230\n",
      "J1640+2224\n",
      "J1643-1224\n",
      "J1713+0747\n",
      "J1738+0333\n",
      "J1741+1351\n",
      "J1744-1134\n",
      "J1903+0327\n",
      "J1909-3744\n",
      "J1910+1256\n",
      "J1918-0642\n",
      "J2010-1323\n",
      "J2145-0750\n",
      "J2317+1439\n"
     ]
    }
   ],
   "source": [
    "for psr in tempopsr:\n",
    "    print(psr.name)\n",
    "    rednoise_toadd = noise_params[str(psr.name) + '_log10_A']\n",
    "    # print(psr.name)\n",
    "    gamma = noise_params[str(psr.name) + '_gamma']\n",
    "    LT.add_rednoise(psr, 10**rednoise_toadd, gamma, components=30)\n",
    "    psr.fit()"
   ]
  },
  {
   "cell_type": "code",
   "execution_count": 12,
   "metadata": {},
   "outputs": [],
   "source": [
    "# create and add GWB to all the pulsars\n",
    "LT.createGWB(tempopsr, Amp=3e-15, gam=13./3.)\n",
    "for psr in tempopsr:\n",
    "    psr.fit()"
   ]
  },
  {
   "cell_type": "code",
   "execution_count": 13,
   "metadata": {},
   "outputs": [],
   "source": [
    "# save the pulsars\n",
    "pardir = './fakes_gwb3/par/'\n",
    "timdir = './fakes_gwb3/tim/'\n",
    "if not os.path.exists(pardir):\n",
    "    os.makedirs(pardir)\n",
    "    os.makedirs(timdir)\n",
    "\n",
    "\n",
    "for psr in tempopsr:\n",
    "    psr.savepar(pardir + psr.name + '-sim.par')\n",
    "    psr.savetim(timdir + psr.name + '-sim.tim')\n",
    "    T.purgetim(timdir + psr.name + '-sim.tim')  # fix the tim files"
   ]
  },
  {
   "cell_type": "code",
   "execution_count": null,
   "metadata": {},
   "outputs": [],
   "source": []
  }
 ],
 "metadata": {
  "kernelspec": {
   "name": "python3",
   "display_name": "Python 3",
   "language": "python"
  },
  "language_info": {
   "codemirror_mode": {
    "name": "ipython",
    "version": 3
   },
   "file_extension": ".py",
   "mimetype": "text/x-python",
   "name": "python",
   "nbconvert_exporter": "python",
   "pygments_lexer": "ipython3",
   "version": "3.7.9-final"
  }
 },
 "nbformat": 4,
 "nbformat_minor": 4
}